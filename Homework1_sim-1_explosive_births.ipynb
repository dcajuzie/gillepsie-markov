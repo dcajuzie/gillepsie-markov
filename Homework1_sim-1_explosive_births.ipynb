{
 "cells": [
  {
   "cell_type": "markdown",
   "metadata": {},
   "source": [
    "### Homework 1b: \n",
    "\n",
    "### This solution is for showing that explosions occur when the process diverges to infinity in finite time when ∞∑n=1(1/λn)<∞.\n",
    "\n",
    "For a pure birth process, divergence to infinity turns out to occur if and only if the expected time to go from any state to infinity is finite.\n",
    "This I have shown intuitively in the solution pdf.\n",
    "\n",
    "A pure birth process is explosive (diverges to infinity in finite time) if and only if the mean time to diverge is finite, i.e.,∞∑n=1(1/λn)<∞.\n",
    "\n",
    "I show this here using two examples:\n",
    "\n",
    "A pure birth process should be explosive if I set λn=cn2, n≥1,\n",
    "\n",
    "but will ne inexplosive if λn=cn, n≥1.\n",
    "\n",
    "This means that the first process cannot be normalized for all finite times.\n"
   ]
  },
  {
   "cell_type": "code",
   "execution_count": 1,
   "metadata": {},
   "outputs": [],
   "source": [
    "# Generate a random sample Y from the uniform distribution\n",
    "\n",
    "import numpy as np\n",
    "import matplotlib.pyplot as plt\n",
    "import time\n",
    "\n",
    "seed = 98765\n",
    "\n",
    "np.random.seed(seed)\n",
    "\n",
    "def yuleExplodes(N, trajectories, v, N0):\n",
    "    s = np.zeros((trajectories, N))\n",
    "    X = np.zeros((trajectories, N))\n",
    "    X[:,0] = N0\n",
    "    n = 0\n",
    "    \n",
    "    for j in range(trajectories):\n",
    "        for i in range(N-1):\n",
    "            n+1\n",
    "            b = v*1*np.power(n,2)\n",
    "            h = -np.log(np.random.rand())/(b*X[j,i])\n",
    "            s[j, i+1] = s[j, i] + h\n",
    "            X[j, i+1] = X[j, i] + 1\n",
    "            \n",
    "    return [s, b, X]\n",
    "\n",
    "def yule(N, trajectories, v, N0):\n",
    "    s = np.zeros((trajectories, N))\n",
    "    X = np.zeros((trajectories, N))\n",
    "    X[:,0] = N0\n",
    "    n = 0\n",
    "    \n",
    "    for j in range(trajectories):\n",
    "        for i in range(N-1):\n",
    "            n = n+1\n",
    "            b = v*2*np.power(n,1)\n",
    "            h = -np.log(np.random.rand())/(b*X[j,i])\n",
    "            s[j, i+1] = s[j, i] + h\n",
    "            X[j, i+1] = X[j, i] + 1\n",
    "            \n",
    "    return [s, b, X]\n",
    "\n",
    "\n",
    "def deterministic(s, N, b, N0):\n",
    "    tmax = max(s[:, -1])\n",
    "    t = np.linspace(0, tmax, 10*N)\n",
    "    yd = N0*np.exp(b*t)\n",
    "    \n",
    "    return[t, yd]\n",
    "\n",
    "def plotPaths(N, trajectories, v, X0):\n",
    "    fig, ax = plt.subplots()\n",
    "    \n",
    "    [sojourn, rate, population] = yule(N, trajectories, v, X0)\n",
    "    [time, detsol] = deterministic(sojourn, N, v, X0)\n",
    "    \n",
    "    ## Sets axis ranges for plotting\n",
    "    xmax = max([max(sojourn[k,:]) for k in range(trajectories)])\n",
    "    ymin = min([min(population[k, :]) for k in range(trajectories)])\n",
    "    ymax = max([max(population[k, :]) for k in range(trajectories)])\n",
    "    \n",
    "    ## Generates plots\n",
    "    for r in range(trajectories):\n",
    "        plt.step(sojourn[r,:], population[r,:], where='post', label=\"Trajectory %s \" % str(r+1))\n",
    "        \n",
    "    plt.plot(time, detsol, 'k--', label=\"Determinstic\")\n",
    "    plt.axis([-0.2, xmax+0.2, ymin-2, ymax+2])\n",
    "    ax.set_xlabel('Time', fontsize=14)\n",
    "    ax.set_ylabel('Population Size', fontsize=14)\n",
    "    plt.xticks(fontsize=14)\n",
    "    plt.yticks(fontsize=14)\n",
    "    plt.tight_layout()\n",
    "    plt.legend(loc=2)\n",
    "    plt.show() \n",
    "    \n",
    "def plotPathsExplosive(N, trajectories, v, X0):\n",
    "    fig, ax = plt.subplots()\n",
    "\n",
    "    [sojourn, rate, population] = yuleExplodes(N, trajectories, v, X0)\n",
    "    [time, detsol] = deterministic(sojourn, N, v, X0)\n",
    "\n",
    "    ## Sets axis ranges for plotting\n",
    "    xmax = max([max(sojourn[k,:]) for k in range(trajectories)])\n",
    "    ymin = min([min(population[k, :]) for k in range(trajectories)])\n",
    "    ymax = max([max(population[k, :]) for k in range(trajectories)])\n",
    "\n",
    "    ## Generates plots\n",
    "    for r in range(trajectories):\n",
    "        plt.step(sojourn[r,:], population[r,:], where='post', label=\"Trajectory %s \" % str(r+1))\n",
    "\n",
    "    plt.plot(time, detsol, 'k--', label=\"Determinstic\")\n",
    "    plt.axis([-0.2, xmax+0.2, ymin-2, ymax+2])\n",
    "    ax.set_xlabel('Time', fontsize=14)\n",
    "    ax.set_ylabel('Population Size', fontsize=14)\n",
    "    plt.xticks(fontsize=14)\n",
    "    plt.yticks(fontsize=14)\n",
    "    plt.tight_layout()\n",
    "    plt.legend(loc=2)\n",
    "    plt.show() "
   ]
  },
  {
   "cell_type": "markdown",
   "metadata": {},
   "source": [
    "Explosions occur when the process diverges to infinity in finite time. \n",
    "\n",
    "For a pure birth process, divergence to infinity turns out to occur if and only if the expected time to go from any state to infinity is finite.\n",
    "\n",
    "This I have shown intuitively in the solution shown above.\n",
    "\n",
    "A pure birth process is explosive (diverges to infinity in finite time) if and only if the mean time to diverge is finite, i.e.,∞∑n=1(1/λn)<∞.\n",
    "\n",
    "I show this here using two examples:\n",
    "\n",
    "A pure birth process should be explosive if I set λn=cn2, n≥1,\n",
    "\n",
    "but will ne inexplosive if λn=cn, n≥1.\n",
    "\n",
    "This means that the first process cannot be normalized for all finite times."
   ]
  },
  {
   "cell_type": "code",
   "execution_count": 2,
   "metadata": {},
   "outputs": [
    {
     "name": "stderr",
     "output_type": "stream",
     "text": [
      "/home/dcajuzie/.virtualenvs/dl4cv/lib/python3.6/site-packages/ipykernel_launcher.py:21: RuntimeWarning: divide by zero encountered in double_scalars\n",
      "/home/dcajuzie/.virtualenvs/dl4cv/lib/python3.6/site-packages/numpy/core/function_base.py:153: RuntimeWarning: invalid value encountered in multiply\n",
      "  y *= step\n"
     ]
    },
    {
     "ename": "ValueError",
     "evalue": "Axis limits cannot be NaN or Inf",
     "output_type": "error",
     "traceback": [
      "\u001b[0;31m-----------------------------------------------------------------------\u001b[0m",
      "\u001b[0;31mValueError\u001b[0m                            Traceback (most recent call last)",
      "\u001b[0;32m<ipython-input-2-3475289aa5a4>\u001b[0m in \u001b[0;36m<module>\u001b[0;34m\u001b[0m\n\u001b[1;32m      8\u001b[0m \u001b[0minitPop\u001b[0m \u001b[0;34m=\u001b[0m \u001b[0;36m1\u001b[0m\u001b[0;34m\u001b[0m\u001b[0;34m\u001b[0m\u001b[0m\n\u001b[1;32m      9\u001b[0m \u001b[0;34m\u001b[0m\u001b[0m\n\u001b[0;32m---> 10\u001b[0;31m \u001b[0mplotPathsExplosive\u001b[0m\u001b[0;34m(\u001b[0m\u001b[0mmaxPop\u001b[0m\u001b[0;34m,\u001b[0m \u001b[0mtrajectories\u001b[0m\u001b[0;34m,\u001b[0m \u001b[0mbirthrate\u001b[0m\u001b[0;34m,\u001b[0m \u001b[0minitPop\u001b[0m\u001b[0;34m)\u001b[0m\u001b[0;34m\u001b[0m\u001b[0;34m\u001b[0m\u001b[0m\n\u001b[0m",
      "\u001b[0;32m<ipython-input-1-030169d0faa5>\u001b[0m in \u001b[0;36mplotPathsExplosive\u001b[0;34m(N, trajectories, v, X0)\u001b[0m\n\u001b[1;32m     90\u001b[0m \u001b[0;34m\u001b[0m\u001b[0m\n\u001b[1;32m     91\u001b[0m     \u001b[0mplt\u001b[0m\u001b[0;34m.\u001b[0m\u001b[0mplot\u001b[0m\u001b[0;34m(\u001b[0m\u001b[0mtime\u001b[0m\u001b[0;34m,\u001b[0m \u001b[0mdetsol\u001b[0m\u001b[0;34m,\u001b[0m \u001b[0;34m'k--'\u001b[0m\u001b[0;34m,\u001b[0m \u001b[0mlabel\u001b[0m\u001b[0;34m=\u001b[0m\u001b[0;34m\"Determinstic\"\u001b[0m\u001b[0;34m)\u001b[0m\u001b[0;34m\u001b[0m\u001b[0;34m\u001b[0m\u001b[0m\n\u001b[0;32m---> 92\u001b[0;31m     \u001b[0mplt\u001b[0m\u001b[0;34m.\u001b[0m\u001b[0maxis\u001b[0m\u001b[0;34m(\u001b[0m\u001b[0;34m[\u001b[0m\u001b[0;34m-\u001b[0m\u001b[0;36m0.2\u001b[0m\u001b[0;34m,\u001b[0m \u001b[0mxmax\u001b[0m\u001b[0;34m+\u001b[0m\u001b[0;36m0.2\u001b[0m\u001b[0;34m,\u001b[0m \u001b[0mymin\u001b[0m\u001b[0;34m-\u001b[0m\u001b[0;36m2\u001b[0m\u001b[0;34m,\u001b[0m \u001b[0mymax\u001b[0m\u001b[0;34m+\u001b[0m\u001b[0;36m2\u001b[0m\u001b[0;34m]\u001b[0m\u001b[0;34m)\u001b[0m\u001b[0;34m\u001b[0m\u001b[0;34m\u001b[0m\u001b[0m\n\u001b[0m\u001b[1;32m     93\u001b[0m     \u001b[0max\u001b[0m\u001b[0;34m.\u001b[0m\u001b[0mset_xlabel\u001b[0m\u001b[0;34m(\u001b[0m\u001b[0;34m'Time'\u001b[0m\u001b[0;34m,\u001b[0m \u001b[0mfontsize\u001b[0m\u001b[0;34m=\u001b[0m\u001b[0;36m14\u001b[0m\u001b[0;34m)\u001b[0m\u001b[0;34m\u001b[0m\u001b[0;34m\u001b[0m\u001b[0m\n\u001b[1;32m     94\u001b[0m     \u001b[0max\u001b[0m\u001b[0;34m.\u001b[0m\u001b[0mset_ylabel\u001b[0m\u001b[0;34m(\u001b[0m\u001b[0;34m'Population Size'\u001b[0m\u001b[0;34m,\u001b[0m \u001b[0mfontsize\u001b[0m\u001b[0;34m=\u001b[0m\u001b[0;36m14\u001b[0m\u001b[0;34m)\u001b[0m\u001b[0;34m\u001b[0m\u001b[0;34m\u001b[0m\u001b[0m\n",
      "\u001b[0;32m~/.virtualenvs/dl4cv/lib/python3.6/site-packages/matplotlib/pyplot.py\u001b[0m in \u001b[0;36maxis\u001b[0;34m(*args, **kwargs)\u001b[0m\n\u001b[1;32m   2410\u001b[0m \u001b[0;34m@\u001b[0m\u001b[0mdocstring\u001b[0m\u001b[0;34m.\u001b[0m\u001b[0mcopy\u001b[0m\u001b[0;34m(\u001b[0m\u001b[0mAxes\u001b[0m\u001b[0;34m.\u001b[0m\u001b[0maxis\u001b[0m\u001b[0;34m)\u001b[0m\u001b[0;34m\u001b[0m\u001b[0;34m\u001b[0m\u001b[0m\n\u001b[1;32m   2411\u001b[0m \u001b[0;32mdef\u001b[0m \u001b[0maxis\u001b[0m\u001b[0;34m(\u001b[0m\u001b[0;34m*\u001b[0m\u001b[0margs\u001b[0m\u001b[0;34m,\u001b[0m \u001b[0;34m**\u001b[0m\u001b[0mkwargs\u001b[0m\u001b[0;34m)\u001b[0m\u001b[0;34m:\u001b[0m\u001b[0;34m\u001b[0m\u001b[0;34m\u001b[0m\u001b[0m\n\u001b[0;32m-> 2412\u001b[0;31m     \u001b[0;32mreturn\u001b[0m \u001b[0mgca\u001b[0m\u001b[0;34m(\u001b[0m\u001b[0;34m)\u001b[0m\u001b[0;34m.\u001b[0m\u001b[0maxis\u001b[0m\u001b[0;34m(\u001b[0m\u001b[0;34m*\u001b[0m\u001b[0margs\u001b[0m\u001b[0;34m,\u001b[0m \u001b[0;34m**\u001b[0m\u001b[0mkwargs\u001b[0m\u001b[0;34m)\u001b[0m\u001b[0;34m\u001b[0m\u001b[0;34m\u001b[0m\u001b[0m\n\u001b[0m\u001b[1;32m   2413\u001b[0m \u001b[0;34m\u001b[0m\u001b[0m\n\u001b[1;32m   2414\u001b[0m \u001b[0;34m\u001b[0m\u001b[0m\n",
      "\u001b[0;32m~/.virtualenvs/dl4cv/lib/python3.6/site-packages/matplotlib/axes/_base.py\u001b[0m in \u001b[0;36maxis\u001b[0;34m(self, *args, **kwargs)\u001b[0m\n\u001b[1;32m   1734\u001b[0m             \u001b[0;32mraise\u001b[0m \u001b[0mValueError\u001b[0m\u001b[0;34m(\u001b[0m\u001b[0;34m'args must contain [xmin xmax ymin ymax]'\u001b[0m\u001b[0;34m)\u001b[0m\u001b[0;34m\u001b[0m\u001b[0;34m\u001b[0m\u001b[0m\n\u001b[1;32m   1735\u001b[0m \u001b[0;34m\u001b[0m\u001b[0m\n\u001b[0;32m-> 1736\u001b[0;31m         \u001b[0mself\u001b[0m\u001b[0;34m.\u001b[0m\u001b[0mset_xlim\u001b[0m\u001b[0;34m(\u001b[0m\u001b[0;34m[\u001b[0m\u001b[0mv\u001b[0m\u001b[0;34m[\u001b[0m\u001b[0;36m0\u001b[0m\u001b[0;34m]\u001b[0m\u001b[0;34m,\u001b[0m \u001b[0mv\u001b[0m\u001b[0;34m[\u001b[0m\u001b[0;36m1\u001b[0m\u001b[0;34m]\u001b[0m\u001b[0;34m]\u001b[0m\u001b[0;34m,\u001b[0m \u001b[0memit\u001b[0m\u001b[0;34m=\u001b[0m\u001b[0memit\u001b[0m\u001b[0;34m,\u001b[0m \u001b[0mauto\u001b[0m\u001b[0;34m=\u001b[0m\u001b[0;32mFalse\u001b[0m\u001b[0;34m)\u001b[0m\u001b[0;34m\u001b[0m\u001b[0;34m\u001b[0m\u001b[0m\n\u001b[0m\u001b[1;32m   1737\u001b[0m         \u001b[0mself\u001b[0m\u001b[0;34m.\u001b[0m\u001b[0mset_ylim\u001b[0m\u001b[0;34m(\u001b[0m\u001b[0;34m[\u001b[0m\u001b[0mv\u001b[0m\u001b[0;34m[\u001b[0m\u001b[0;36m2\u001b[0m\u001b[0;34m]\u001b[0m\u001b[0;34m,\u001b[0m \u001b[0mv\u001b[0m\u001b[0;34m[\u001b[0m\u001b[0;36m3\u001b[0m\u001b[0;34m]\u001b[0m\u001b[0;34m]\u001b[0m\u001b[0;34m,\u001b[0m \u001b[0memit\u001b[0m\u001b[0;34m=\u001b[0m\u001b[0memit\u001b[0m\u001b[0;34m,\u001b[0m \u001b[0mauto\u001b[0m\u001b[0;34m=\u001b[0m\u001b[0;32mFalse\u001b[0m\u001b[0;34m)\u001b[0m\u001b[0;34m\u001b[0m\u001b[0;34m\u001b[0m\u001b[0m\n\u001b[1;32m   1738\u001b[0m \u001b[0;34m\u001b[0m\u001b[0m\n",
      "\u001b[0;32m~/.virtualenvs/dl4cv/lib/python3.6/site-packages/matplotlib/axes/_base.py\u001b[0m in \u001b[0;36mset_xlim\u001b[0;34m(self, left, right, emit, auto, xmin, xmax)\u001b[0m\n\u001b[1;32m   3240\u001b[0m         \u001b[0mself\u001b[0m\u001b[0;34m.\u001b[0m\u001b[0m_process_unit_info\u001b[0m\u001b[0;34m(\u001b[0m\u001b[0mxdata\u001b[0m\u001b[0;34m=\u001b[0m\u001b[0;34m(\u001b[0m\u001b[0mleft\u001b[0m\u001b[0;34m,\u001b[0m \u001b[0mright\u001b[0m\u001b[0;34m)\u001b[0m\u001b[0;34m)\u001b[0m\u001b[0;34m\u001b[0m\u001b[0;34m\u001b[0m\u001b[0m\n\u001b[1;32m   3241\u001b[0m         \u001b[0mleft\u001b[0m \u001b[0;34m=\u001b[0m \u001b[0mself\u001b[0m\u001b[0;34m.\u001b[0m\u001b[0m_validate_converted_limits\u001b[0m\u001b[0;34m(\u001b[0m\u001b[0mleft\u001b[0m\u001b[0;34m,\u001b[0m \u001b[0mself\u001b[0m\u001b[0;34m.\u001b[0m\u001b[0mconvert_xunits\u001b[0m\u001b[0;34m)\u001b[0m\u001b[0;34m\u001b[0m\u001b[0;34m\u001b[0m\u001b[0m\n\u001b[0;32m-> 3242\u001b[0;31m         \u001b[0mright\u001b[0m \u001b[0;34m=\u001b[0m \u001b[0mself\u001b[0m\u001b[0;34m.\u001b[0m\u001b[0m_validate_converted_limits\u001b[0m\u001b[0;34m(\u001b[0m\u001b[0mright\u001b[0m\u001b[0;34m,\u001b[0m \u001b[0mself\u001b[0m\u001b[0;34m.\u001b[0m\u001b[0mconvert_xunits\u001b[0m\u001b[0;34m)\u001b[0m\u001b[0;34m\u001b[0m\u001b[0;34m\u001b[0m\u001b[0m\n\u001b[0m\u001b[1;32m   3243\u001b[0m \u001b[0;34m\u001b[0m\u001b[0m\n\u001b[1;32m   3244\u001b[0m         \u001b[0mold_left\u001b[0m\u001b[0;34m,\u001b[0m \u001b[0mold_right\u001b[0m \u001b[0;34m=\u001b[0m \u001b[0mself\u001b[0m\u001b[0;34m.\u001b[0m\u001b[0mget_xlim\u001b[0m\u001b[0;34m(\u001b[0m\u001b[0;34m)\u001b[0m\u001b[0;34m\u001b[0m\u001b[0;34m\u001b[0m\u001b[0m\n",
      "\u001b[0;32m~/.virtualenvs/dl4cv/lib/python3.6/site-packages/matplotlib/axes/_base.py\u001b[0m in \u001b[0;36m_validate_converted_limits\u001b[0;34m(self, limit, convert)\u001b[0m\n\u001b[1;32m   3156\u001b[0m             if (isinstance(converted_limit, Real)\n\u001b[1;32m   3157\u001b[0m                     and not np.isfinite(converted_limit)):\n\u001b[0;32m-> 3158\u001b[0;31m                 \u001b[0;32mraise\u001b[0m \u001b[0mValueError\u001b[0m\u001b[0;34m(\u001b[0m\u001b[0;34m\"Axis limits cannot be NaN or Inf\"\u001b[0m\u001b[0;34m)\u001b[0m\u001b[0;34m\u001b[0m\u001b[0;34m\u001b[0m\u001b[0m\n\u001b[0m\u001b[1;32m   3159\u001b[0m             \u001b[0;32mreturn\u001b[0m \u001b[0mconverted_limit\u001b[0m\u001b[0;34m\u001b[0m\u001b[0;34m\u001b[0m\u001b[0m\n\u001b[1;32m   3160\u001b[0m \u001b[0;34m\u001b[0m\u001b[0m\n",
      "\u001b[0;31mValueError\u001b[0m: Axis limits cannot be NaN or Inf"
     ]
    },
    {
     "data": {
      "image/png": "[encoded data removed]",
      "text/plain": [
       "<Figure size 432x288 with 1 Axes>"
      ]
     },
     "metadata": {
      "needs_background": "light"
     },
     "output_type": "display_data"
    }
   ],
   "source": [
    "# Here I set the rate λn=cn^2, c = 2, n≥1 so that the processes diverges\n",
    "# to infinity in finite time\n",
    "\n",
    "maxPop = 10\n",
    "    \n",
    "trajectories = 5\n",
    "birthrate = 0.4\n",
    "initPop = 1\n",
    "    \n",
    "plotPathsExplosive(maxPop, trajectories, birthrate, initPop)"
   ]
  },
  {
   "cell_type": "code",
   "execution_count": 4,
   "metadata": {},
   "outputs": [
    {
     "data": {
      "image/png": "[encoded data removed]",
      "text/plain": [
       "<Figure size 432x288 with 1 Axes>"
      ]
     },
     "metadata": {
      "needs_background": "light"
     },
     "output_type": "display_data"
    }
   ],
   "source": [
    "# Here I set the rate λn=cn, c = 2, n≥1 \n",
    "\n",
    "maxPop = 10\n",
    "    \n",
    "trajectories = 5\n",
    "birthrate = 0.4\n",
    "initPop = 1\n",
    "    \n",
    "plotPaths(maxPop, trajectories, birthrate, initPop) "
   ]
  },
  {
   "cell_type": "markdown",
   "metadata": {},
   "source": [
    "I'm not sure exactly how I can achieve a formulation to show the simulation until explosion. It appears to do so within very small time frame."
   ]
  },
  {
   "cell_type": "code",
   "execution_count": null,
   "metadata": {},
   "outputs": [],
   "source": []
  }
 ],
 "metadata": {
  "kernelspec": {
   "display_name": "Python 2",
   "language": "python",
   "name": "python2"
  },
  "language_info": {
   "codemirror_mode": {
    "name": "ipython",
    "version": 3
   },
   "file_extension": ".py",
   "mimetype": "text/x-python",
   "name": "python",
   "nbconvert_exporter": "python",
   "pygments_lexer": "ipython3",
   "version": "3.6.9"
  }
 },
 "nbformat": 4,
 "nbformat_minor": 4
}
