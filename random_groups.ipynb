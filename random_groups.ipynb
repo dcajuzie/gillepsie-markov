{
 "cells": [
  {
   "cell_type": "code",
   "execution_count": 1,
   "metadata": {},
   "outputs": [
    {
     "data": {
      "text/plain": [
       "[[17, 5, 14, 12, 18], [10, 9, 7, 1, 2], [16, 8, 4, 15, 3], [13, 11, 6, 19]]"
      ]
     },
     "execution_count": 1,
     "metadata": {},
     "output_type": "execute_result"
    }
   ],
   "source": [
    "# This code takes a sequence of 19 numbers, and generates 4 groups randomly. \n",
    "# There will be 3 groups of 5, and one group of 4 numbers.\n",
    "\n",
    "import random\n",
    "\n",
    "numList = list(range(1,20,1))\n",
    "random.shuffle(numList)\n",
    "[numList[x::4] for x in range(4)]"
   ]
  },
  {
   "cell_type": "code",
   "execution_count": null,
   "metadata": {},
   "outputs": [],
   "source": []
  }
 ],
 "metadata": {
  "kernelspec": {
   "display_name": "Python 2",
   "language": "python",
   "name": "python2"
  },
  "language_info": {
   "codemirror_mode": {
    "name": "ipython",
    "version": 3
   },
   "file_extension": ".py",
   "mimetype": "text/x-python",
   "name": "python",
   "nbconvert_exporter": "python",
   "pygments_lexer": "ipython3",
   "version": "3.6.9"
  }
 },
 "nbformat": 4,
 "nbformat_minor": 4
}
